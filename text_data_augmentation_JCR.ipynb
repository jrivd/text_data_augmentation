{
  "nbformat": 4,
  "nbformat_minor": 0,
  "metadata": {
    "colab": {
      "name": "text_data_augmentation_JCR.ipynb",
      "provenance": [],
      "collapsed_sections": []
    },
    "kernelspec": {
      "name": "python3",
      "display_name": "Python 3"
    },
    "language_info": {
      "name": "python"
    }
  },
  "cells": [
    {
      "cell_type": "code",
      "source": [
        "#----------------------------------------------------------------------------\n",
        "# Created By  : Juan Carlos Rivera\n",
        "# Created Date: 12/07/22\n",
        "# version ='1.0'\n",
        "# ---------------------------------------------------------------------------\n",
        "\"\"\"Takes a txt file and applies onto it different techniques of data augmentation\"\"\" \n",
        "# ---------------------------------------------------------------------------"
      ],
      "metadata": {
        "colab": {
          "base_uri": "https://localhost:8080/",
          "height": 35
        },
        "id": "9ZF_4Pa0YCtc",
        "outputId": "7f5828e7-1afc-4fcd-842d-10c23fea9cb3"
      },
      "execution_count": null,
      "outputs": [
        {
          "output_type": "execute_result",
          "data": {
            "text/plain": [
              "' Takes a docx file as input and outputs a csv vector to feed NLP engine'"
            ],
            "application/vnd.google.colaboratory.intrinsic+json": {
              "type": "string"
            }
          },
          "metadata": {},
          "execution_count": 1
        }
      ]
    },
    {
      "cell_type": "code",
      "source": [
        "import re\n",
        "import random\n",
        "import string\n",
        "!pip install nltk\n",
        "import nltk\n",
        "nltk.download('wordnet')\n",
        "nltk.download('omw-1.4')\n",
        "from nltk.corpus import wordnet\n",
        "with open ('v3_augmented_new_techniques.txt', 'r', encoding='UTF-8') as f:\n",
        "#with open ('test_text.txt', 'r', encoding='UTF-8') as f:\n",
        "\n",
        "  content = f.read()"
      ],
      "metadata": {
        "id": "caOBDW-LEea_"
      },
      "execution_count": null,
      "outputs": []
    },
    {
      "cell_type": "markdown",
      "source": [
        "**Word deletion**\n",
        "\n",
        "Deletes a random word in every sentence"
      ],
      "metadata": {
        "id": "2jjHGW7LFUXS"
      }
    },
    {
      "cell_type": "code",
      "source": [
        "sentences = re.split('\\n',content)"
      ],
      "metadata": {
        "id": "ixFeUCe3EkLT"
      },
      "execution_count": 2,
      "outputs": []
    },
    {
      "cell_type": "code",
      "source": [
        "for sent in sentences:\n",
        "  print(\"Sentence: \", sent)"
      ],
      "metadata": {
        "id": "9-O9Xmn3QAd2"
      },
      "execution_count": null,
      "outputs": []
    },
    {
      "cell_type": "code",
      "source": [
        "words = re.split('; |, |\\*|\\s|\\]|\\[',content)"
      ],
      "metadata": {
        "id": "v43rlpr5HYWE"
      },
      "execution_count": 4,
      "outputs": []
    },
    {
      "cell_type": "code",
      "source": [
        "stoppers = [\"[\", \"]\", \".\", \";\", \":\", \"name\", \"surname\", \"DE\", \"de\", \" \", \"COMPSHORT\", \"COMPLONG\", \"perito\", \"abogado\", \"procurador\", \"notario\", \"demandante\", \"demandado\"]"
      ],
      "metadata": {
        "id": "k9Pxw1oUhoMA"
      },
      "execution_count": 5,
      "outputs": []
    },
    {
      "cell_type": "code",
      "source": [
        "new_content=''\n",
        "\n",
        "for sent in sentences:\n",
        "  nw = len(sent.split())\n",
        "  rand_num = random.randint(0, nw)\n",
        "  rand_num = rand_num - 1\n",
        "  word = re.split('; |, |\\*|\\s|\\]|\\[|\\.|\\:', sent)\n",
        "  selected_word=word[rand_num]\n",
        "  for stopper in stoppers:\n",
        "    if (stopper in selected_word):\n",
        "      pass\n",
        "    else:\n",
        "      sent=sent.replace(selected_word, \"\", 1)\n",
        "      print('Sentence: ', sent)\n",
        "      print('Deleted: ', selected_word)\n",
        "      sent = sent + '\\n'\n",
        "      new_content += str(sent)\n",
        "      break"
      ],
      "metadata": {
        "id": "kqwYPogEAmha"
      },
      "execution_count": null,
      "outputs": []
    },
    {
      "cell_type": "markdown",
      "source": [
        "**Synonym replacement**\n",
        "\n",
        "Replaces one of the words in a sentence by a synonym "
      ],
      "metadata": {
        "id": "d22V4MP7ypPA"
      }
    },
    {
      "cell_type": "code",
      "source": [
        "sentences = re.split('\\n',new_content)"
      ],
      "metadata": {
        "id": "zqwoYt2xyxBB"
      },
      "execution_count": 9,
      "outputs": []
    },
    {
      "cell_type": "code",
      "source": [
        "new_content2=''\n",
        "for sent in sentences:\n",
        "  word = re.split('; |, |\\*|\\s|\\]|\\[', sent)\n",
        "  if (sent == ''):\n",
        "    pass\n",
        "  else:\n",
        "    sent_length = len(sent.split())\n",
        "    for i in range (0, sent_length):\n",
        "      print ('**************************************************')\n",
        "      print ('Current sentence: ' + sent)\n",
        "      print ('i = ', i)\n",
        "      rand_num = random.randint(0, sent_length)\n",
        "      if (rand_num == 0):\n",
        "        rand_num = 0\n",
        "      else:\n",
        "        rand_num = rand_num - 1\n",
        "      print ('Random number: ', rand_num)\n",
        "      selected_word=word[rand_num]\n",
        "      selected_word = selected_word.translate(str.maketrans('', '', string.punctuation))\n",
        "      print ('Selected word: ',  selected_word)\n",
        "      synset = wordnet.synsets(selected_word, lang='spa')\n",
        "      if any(stopper in selected_word for stopper in stoppers):\n",
        "       pass\n",
        "      else:   \n",
        "        try:\n",
        "          syn=synset[0].lemmas('spa')[0].name()\n",
        "          syn=str.lower(syn)\n",
        "          print(\"Word: \" + selected_word)\n",
        "          print(\"Synonym: \" + syn)\n",
        "          if (syn!=str.lower(selected_word)):\n",
        "            print(\"Synonym: \" + syn)\n",
        "            selplussyn = syn\n",
        "            sent=sent.replace(selected_word, selplussyn, 1)\n",
        "            sent = sent + '\\n'\n",
        "            new_content2 += str(sent)\n",
        "            print('//////////////////////////////////////')\n",
        "            print(' ')\n",
        "            print(\"New sentence:\", sent)\n",
        "            print('//////////////////////////////////////')\n",
        "            break\n",
        "          else:\n",
        "            print('Synonym is the same')\n",
        "            if (i==sent_length-1):\n",
        "              print(\"Max. iterations reached. Simple sent will be recorded\", sent)\n",
        "              sent = sent + '\\n'\n",
        "              new_content2 += str(sent)\n",
        "            pass \n",
        "        except IndexError:\n",
        "          print(\"index error\")\n",
        "          syn = 'null'\n",
        "          if (i==sent_length-1):\n",
        "            print(\"Max. iterations reached. Simple sent will be recorded\", sent)\n",
        "            sent = sent + '\\n'\n",
        "            new_content2 += str(sent)\n",
        "          pass"
      ],
      "metadata": {
        "id": "QAkah1S0yz99"
      },
      "execution_count": null,
      "outputs": []
    },
    {
      "cell_type": "markdown",
      "source": [
        "**Synonym addition**\n",
        "\n",
        "Adds a synonym of one of the words in every sentence next to that word "
      ],
      "metadata": {
        "id": "5mexoy0uTzBe"
      }
    },
    {
      "cell_type": "code",
      "source": [
        "sentences = re.split('\\n',new_content2)"
      ],
      "metadata": {
        "id": "tHiDaycAHl_u"
      },
      "execution_count": 12,
      "outputs": []
    },
    {
      "cell_type": "code",
      "source": [
        "new_content3=''\n",
        "\n",
        "for sent in sentences:\n",
        "  word = re.split('; |, |\\*|\\s|\\]|\\[', sent)\n",
        "  if (sent == ''):\n",
        "    pass\n",
        "  else:\n",
        "    sent_length = len(sent.split())\n",
        "    for i in range (0, sent_length):\n",
        "      print ('**************************************************')\n",
        "      print ('Current sentence: ' + sent)\n",
        "      print ('i = ', i)\n",
        "      rand_num = random.randint(0, sent_length)\n",
        "      if (rand_num == 0):\n",
        "        rand_num = 0\n",
        "      else:\n",
        "        rand_num = rand_num - 1\n",
        "      print ('Random number: ', rand_num)\n",
        "      selected_word=word[rand_num]\n",
        "      selected_word = selected_word.translate(str.maketrans('', '', string.punctuation))\n",
        "      print ('Selected word: ',  selected_word)\n",
        "      synset = wordnet.synsets(selected_word, lang='spa')\n",
        "      if any(stopper in selected_word for stopper in stoppers):\n",
        "       pass\n",
        "      else:   \n",
        "        try:\n",
        "          syn=synset[0].lemmas('spa')[0].name()\n",
        "          syn=str.lower(syn)\n",
        "          print(\"Word: \" + selected_word)\n",
        "          print(\"Synonym: \" + syn)\n",
        "          if (syn!=str.lower(selected_word)):\n",
        "            print(\"Synonym: \" + syn)\n",
        "            selplussyn = selected_word + \" \" + syn\n",
        "            sent=sent.replace(selected_word, selplussyn, 1)\n",
        "            sent = sent + '\\n'\n",
        "            new_content3 += str(sent)\n",
        "            print('//////////////////////////////////////')\n",
        "            print(' ')\n",
        "            print(\"New sentence:\", sent)\n",
        "            print('//////////////////////////////////////')\n",
        "            break\n",
        "          else:\n",
        "            print('Synonym is the same')\n",
        "            if (i==sent_length-1):\n",
        "              print(\"Max. iterations reached. Simple sent will be recorded\", sent)\n",
        "              sent = sent + '\\n'\n",
        "              new_content3 += str(sent)\n",
        "            pass \n",
        "        except IndexError:\n",
        "          print(\"index error\")\n",
        "          syn = 'null'\n",
        "          if (i==sent_length-1):\n",
        "            print(\"Max. iterations reached. Simple sent will be recorded\", sent)\n",
        "            sent = sent + '\\n'\n",
        "            new_content3 += str(sent)\n",
        "          pass"
      ],
      "metadata": {
        "id": "7BxqIp1nducd"
      },
      "execution_count": null,
      "outputs": []
    },
    {
      "cell_type": "code",
      "source": [
        "new_content3=new_content3.replace('_', ' ', 3)"
      ],
      "metadata": {
        "id": "j-WEu6qZNQMg"
      },
      "execution_count": 17,
      "outputs": []
    },
    {
      "cell_type": "markdown",
      "source": [
        "**Random swap**\n",
        "\n",
        "Randomly swaps two words in a sentence"
      ],
      "metadata": {
        "id": "6kxCb1Uj4Nwz"
      }
    },
    {
      "cell_type": "code",
      "source": [
        "sentences = re.split('\\n',new_content3)"
      ],
      "metadata": {
        "id": "6AV8X581zrT6"
      },
      "execution_count": 18,
      "outputs": []
    },
    {
      "cell_type": "code",
      "source": [
        "new_content4=''\n",
        "for sent in sentences:\n",
        "  word = re.split('; |, |\\*|\\s|\\]|\\[', sent)\n",
        "  sent_length = len(sent.split())\n",
        "  if (sent == ''):\n",
        "    print('Sentence: empty')\n",
        "    pass\n",
        "  else:\n",
        "    if (sent_length < 2):\n",
        "      print('Sentence: too short')\n",
        "      pass\n",
        "    else:\n",
        "      for i in range (0, sent_length):\n",
        "        rand_num = random.randint(0, sent_length)\n",
        "        rand_num2 = random.choice([el for el in range (0, (sent_length+1)) if el != rand_num])\n",
        "        if (rand_num == 0):\n",
        "         rand_num = 0\n",
        "        else:\n",
        "          rand_num = rand_num - 1\n",
        "        if (rand_num2 == 0):\n",
        "          rand_num2 = 0\n",
        "        else:\n",
        "          rand_num2 = rand_num2 - 1\n",
        "        w1 = word[rand_num]\n",
        "        w2 = word[rand_num2]\n",
        "        if any(stopper in w1 for stopper in stoppers):\n",
        "          pass\n",
        "        else: \n",
        "          if any(stopper in w2 for stopper in stoppers):\n",
        "            pass\n",
        "          else: \n",
        "            print ('Current sentence: ' + sent)\n",
        "            print ('Nums: ', rand_num, rand_num2)\n",
        "            print ('Palabras: ', word[rand_num], word[rand_num2])\n",
        "            sent = sent.replace(word[rand_num], 'R1', 1)\n",
        "            sent = sent.replace(word[rand_num2], 'R2', 1)\n",
        "            sent = sent.replace('R1', w2, 1)\n",
        "            sent = sent.replace('R2', w1, 1)\n",
        "            sent = sent + '\\n'\n",
        "            new_content4 += str(sent)\n",
        "            print ('New sentence: ', sent)\n",
        "            break"
      ],
      "metadata": {
        "id": "esCHbjC64oNG"
      },
      "execution_count": null,
      "outputs": []
    },
    {
      "cell_type": "code",
      "source": [
        "text_file = open(\"txt_augment_v1.txt\", \"w\")\n",
        "n = text_file.write(new_content4)\n",
        "text_file.close()"
      ],
      "metadata": {
        "id": "nwEfGMWbOA83"
      },
      "execution_count": 20,
      "outputs": []
    }
  ]
}